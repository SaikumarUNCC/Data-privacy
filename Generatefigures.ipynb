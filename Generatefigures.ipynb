{
  "nbformat": 4,
  "nbformat_minor": 0,
  "metadata": {
    "colab": {
      "provenance": []
    },
    "kernelspec": {
      "name": "python3",
      "display_name": "Python 3"
    },
    "language_info": {
      "name": "python"
    }
  },
  "cells": [
    {
      "cell_type": "code",
      "execution_count": null,
      "metadata": {
        "id": "X_nR9GfAYtp_"
      },
      "outputs": [],
      "source": [
        "pip install tensorflow numpy matplotlib opencv-python\n"
      ]
    },
    {
      "cell_type": "code",
      "source": [
        "# This script is used to create multi-resolution TFRecords datasets with a focus on anonymizing specific features in images using pre-trained GAN models for digital media privacy enhancement.\n",
        "\n",
        "import os\n",
        "import sys\n",
        "import glob\n",
        "import argparse\n",
        "import threading\n",
        "import six.moves.queue as Queue\n",
        "import traceback\n",
        "import numpy as np\n",
        "import tensorflow as tf\n",
        "import PIL.Image\n",
        "import dnnlib.tflib as tflib\n",
        "from training import dataset\n",
        "\n",
        "# Anonymization functions\n",
        "def anonymize_image(img, method='pixelation'):\n",
        "    \"\"\"Apply anonymization methods such as pixelation or blurring.\"\"\"\n",
        "    if method == 'pixelation':\n",
        "        factor = 10\n",
        "        img = img.resize((img.width // factor, img.height // factor), PIL.Image.NEAREST)\n",
        "        img = img.resize((img.width * factor, img.height * factor), PIL.Image.NEAREST)\n",
        "    elif method == 'blur':\n",
        "        img = img.filter(PIL.ImageFilter.GaussianBlur(radius=5))\n",
        "    return img\n",
        "\n",
        "# Dataset creation and manipulation class\n",
        "class TFRecordExporter:\n",
        "    def __init__(self, tfrecord_dir, expected_images, print_progress=True, progress_interval=10, anonymization_method=None):\n",
        "        self.tfrecord_dir = tfrecord_dir\n",
        "        self.tfr_prefix = os.path.join(self.tfrecord_dir, os.path.basename(self.tfrecord_dir))\n",
        "        self.expected_images = expected_images\n",
        "        self.cur_images = 0\n",
        "        self.shape = None\n",
        "        self.resolution_log2 = None\n",
        "        self.tfr_writers = []\n",
        "        self.print_progress = print_progress\n",
        "        self.progress_interval = progress_interval\n",
        "        self.anonymization_method = anonymization_method\n",
        "\n",
        "        if self.print_progress:\n",
        "            print('Creating anonymized dataset \"%s\"' % tfrecord_dir)\n",
        "        if not os.path.isdir(self.tfrecord_dir):\n",
        "            os.makedirs(self.tfrecord_dir)\n",
        "        assert os.path.isdir(self.tfrecord_dir)\n",
        "\n",
        "    def close(self):\n",
        "        if self.print_progress:\n",
        "            print('%-40s\\r' % 'Flushing data...', end='', flush=True)\n",
        "        for tfr_writer in self.tfr_writers:\n",
        "            tfr_writer.close()\n",
        "        self.tfr_writers = []\n",
        "        if self.print_progress:\n",
        "            print('%-40s\\r' % '', end='', flush=True)\n",
        "            print('Added %d anonymized images.' % self.cur_images)\n",
        "\n",
        "    def add_image(self, img):\n",
        "        if self.anonymization_method:\n",
        "            img = anonymize_image(img, method=self.anonymization_method)\n",
        "        if self.print_progress and self.cur_images % self.progress_interval == 0:\n",
        "            print('%d / %d\\r' % (self.cur_images, self.expected_images), end='', flush=True)\n",
        "        if self.shape is None:\n",
        "            self.shape = img.shape\n",
        "            self.resolution_log2 = int(np.log2(self.shape[1]))\n",
        "            assert self.shape[1] == 2**self.resolution_log2\n",
        "            tfr_opt = tf.io.TFRecordOptions(compression_type=tf.io.TFRecordCompressionType.NONE)\n",
        "            for lod in range(self.resolution_log2 - 1):\n",
        "                tfr_file = self.tfr_prefix + '-r%02d.tfrecords' % (self.resolution_log2 - lod)\n",
        "                self.tfr_writers.append(tf.io.TFRecordWriter(tfr_file, options=tfr_opt))\n",
        "        assert img.shape == self.shape\n",
        "        for lod, tfr_writer in enumerate(self.tfr_writers):\n",
        "            if lod:\n",
        "                img = img.astype(np.float32)\n",
        "                img = (img[:, 0::2, 0::2] + img[:, 0::2, 1::2] + img[:, 1::2, 0::2] + img[:, 1::2, 1::2]) * 0.25\n",
        "            quant = np.rint(img).clip(0, 255).astype(np.uint8)\n",
        "            ex = tf.train.Example(features=tf.train.Features(feature={\n",
        "                'shape': tf.train.Feature(int64_list=tf.train.Int64List(value=quant.shape)),\n",
        "                'data': tf.train.Feature(bytes_list=tf.train.BytesList(value=[quant.tobytes()]))}))\n",
        "            tfr_writer.write(ex.SerializeToString())\n",
        "        self.cur_images += 1\n",
        "\n",
        "# Main function\n",
        "def create_anonymized_dataset(tfrecord_dir, image_dir, shuffle, method='pixelation'):\n",
        "    print('Loading and anonymizing images from \"%s\"' % image_dir)\n",
        "    image_filenames = sorted(glob.glob(os.path.join(image_dir, '*')))\n",
        "    if len(image_filenames\n"
      ],
      "metadata": {
        "id": "N1oAgTSPY8vu"
      },
      "execution_count": null,
      "outputs": []
    }
  ]
}